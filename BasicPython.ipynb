{
  "nbformat": 4,
  "nbformat_minor": 0,
  "metadata": {
    "colab": {
      "provenance": [],
      "authorship_tag": "ABX9TyPhXI7+KFvKRGKF1/Hduu9Q",
      "include_colab_link": true
    },
    "kernelspec": {
      "name": "python3",
      "display_name": "Python 3"
    },
    "language_info": {
      "name": "python"
    }
  },
  "cells": [
    {
      "cell_type": "markdown",
      "metadata": {
        "id": "view-in-github",
        "colab_type": "text"
      },
      "source": [
        "<a href=\"https://colab.research.google.com/github/ianomwenga/PythonScripts/blob/main/BasicPython.ipynb\" target=\"_parent\"><img src=\"https://colab.research.google.com/assets/colab-badge.svg\" alt=\"Open In Colab\"/></a>"
      ]
    },
    {
      "cell_type": "markdown",
      "source": [
        "Check the version of pandas and numpy installed using the following commands: import numpy;print(numpy.version.version)#numpy version import pandas as pd;print(pd.version)#numpy version\n",
        "\n",
        "```\n",
        "# This is formatted as code\n",
        "```\n",
        "\n"
      ],
      "metadata": {
        "id": "QdinD_m5Ct-q"
      }
    },
    {
      "cell_type": "code",
      "execution_count": 2,
      "metadata": {
        "colab": {
          "base_uri": "https://localhost:8080/"
        },
        "id": "M19tIQ8HaDBF",
        "outputId": "73823738-508f-4ab6-aea3-df88185e8464"
      },
      "outputs": [
        {
          "output_type": "stream",
          "name": "stdout",
          "text": [
            "1.23.5\n",
            "1.5.3\n"
          ]
        }
      ],
      "source": [
        "import numpy;\n",
        "print (numpy.__version__)#numpy version\n",
        "\n",
        "import pandas as pd;\n",
        "print (pd.__version__)#pandas version"
      ]
    },
    {
      "cell_type": "markdown",
      "source": [],
      "metadata": {
        "id": "hRUMr6OubXGo"
      }
    },
    {
      "cell_type": "code",
      "source": [
        "str = 'Helo HCIAPDTP-HuaweiTeam'\n",
        "print(str)"
      ],
      "metadata": {
        "colab": {
          "base_uri": "https://localhost:8080/"
        },
        "id": "0Kqi_DBzbxdW",
        "outputId": "7e2bb9de-3552-45ac-ac19-97fee289b139"
      },
      "execution_count": 3,
      "outputs": [
        {
          "output_type": "stream",
          "name": "stdout",
          "text": [
            "Helo HCIAPDTP-HuaweiTeam\n"
          ]
        }
      ]
    },
    {
      "cell_type": "markdown",
      "source": [
        "Write a program to define two variables, calculate their sum and display the results"
      ],
      "metadata": {
        "id": "f-i_WNgbcZPW"
      }
    },
    {
      "cell_type": "code",
      "source": [
        "x = 10 #defines variable named x\n",
        "y = 5 #defines variable named y\n",
        "\n",
        "z = x + y #defines a variable named z\n",
        "print(z) #this prints the value of z\n"
      ],
      "metadata": {
        "colab": {
          "base_uri": "https://localhost:8080/"
        },
        "id": "CbDYdr-Lc2vq",
        "outputId": "589356b1-e10f-4b07-b171-a564a4a04ff7"
      },
      "execution_count": 4,
      "outputs": [
        {
          "output_type": "stream",
          "name": "stdout",
          "text": [
            "15\n"
          ]
        }
      ]
    },
    {
      "cell_type": "markdown",
      "source": [
        "Write a program to define a tuple that contains only one element"
      ],
      "metadata": {
        "id": "zpQIWBINdbt7"
      }
    },
    {
      "cell_type": "code",
      "source": [
        "colors = (\"green\", \"purple\", \"beige\", \"brown\")"
      ],
      "metadata": {
        "id": "GgipOw_sdveQ"
      },
      "execution_count": 5,
      "outputs": []
    },
    {
      "cell_type": "markdown",
      "source": [
        "Write a program to define a tuple and then use the 'for loop' to print all the elements using python"
      ],
      "metadata": {
        "id": "-uznJhfmeDWO"
      }
    },
    {
      "cell_type": "code",
      "source": [
        "number = (1, 2, 3, 4, 5, 6, 7, 8, 9)\n",
        "for item in number:\n",
        "  print(item)"
      ],
      "metadata": {
        "colab": {
          "base_uri": "https://localhost:8080/"
        },
        "id": "XaUcVBKFehuJ",
        "outputId": "ff10bb09-72d5-4b61-ecd4-f9a47baa5aa9"
      },
      "execution_count": 6,
      "outputs": [
        {
          "output_type": "stream",
          "name": "stdout",
          "text": [
            "1\n",
            "2\n",
            "3\n",
            "4\n",
            "5\n",
            "6\n",
            "7\n",
            "8\n",
            "9\n"
          ]
        }
      ]
    },
    {
      "cell_type": "markdown",
      "source": [
        "Write code to create a Python dictionary (the dict type) and print out the details. Add two entries to the dictionary: Associate the key 'name' with the value 'Reagan' and associate the key'phone' with '+254 722 222333'"
      ],
      "metadata": {
        "id": "3h741gNHe0WQ"
      }
    },
    {
      "cell_type": "code",
      "source": [
        "my_dict = {\"name\": \"Reagan\", \"phone\": \"+254722 222333\"}\n",
        "print(my_dict)"
      ],
      "metadata": {
        "colab": {
          "base_uri": "https://localhost:8080/"
        },
        "id": "Cez-DTjOffxi",
        "outputId": "8e3817e3-734b-4d26-ee3d-a47e3359e37f"
      },
      "execution_count": 7,
      "outputs": [
        {
          "output_type": "stream",
          "name": "stdout",
          "text": [
            "{'name': 'Reagan', 'phone': '+254722 222333'}\n"
          ]
        }
      ]
    },
    {
      "cell_type": "markdown",
      "source": [
        "Define a function to do Multiplication, such as Mul(8,6), and it output 42"
      ],
      "metadata": {
        "id": "hAkR9mCjikZL"
      }
    },
    {
      "cell_type": "code",
      "source": [
        "def Mul(x,y):\n",
        "  return x * y\n",
        "print(Mul(8,6))"
      ],
      "metadata": {
        "colab": {
          "base_uri": "https://localhost:8080/"
        },
        "id": "6NQWhp4WiziD",
        "outputId": "7b760d36-d2b6-47a7-d902-7b9744200daf"
      },
      "execution_count": 8,
      "outputs": [
        {
          "output_type": "stream",
          "name": "stdout",
          "text": [
            "48\n"
          ]
        }
      ]
    },
    {
      "cell_type": "markdown",
      "source": [
        "Complete the function definition so it returns the square of the product of the parameters, so sqrProd(2,5) returns (2*5)*(2*5) = 100. def sqrPod(x,y):"
      ],
      "metadata": {
        "id": "0yYoxUwdkCvp"
      }
    },
    {
      "cell_type": "code",
      "source": [
        "def sqrProd(x, y):\n",
        "  return (x * y) ** 2\n",
        "print(sqrProd(2,5))"
      ],
      "metadata": {
        "colab": {
          "base_uri": "https://localhost:8080/"
        },
        "id": "XbFH7GWslqt3",
        "outputId": "18140833-906d-4219-e7a2-621f853338b4"
      },
      "execution_count": 9,
      "outputs": [
        {
          "output_type": "stream",
          "name": "stdout",
          "text": [
            "100\n"
          ]
        }
      ]
    },
    {
      "cell_type": "markdown",
      "source": [
        "Import numpy and then:\n",
        "(a) Use numpy to define an array, the shape of it is (5,5) and all elements of it is 0, using python"
      ],
      "metadata": {
        "id": "DTI6egvNm4AX"
      }
    },
    {
      "cell_type": "code",
      "source": [
        "import numpy as np\n",
        "array = np.zeros((5,5),dtype=int)\n",
        "print(array)"
      ],
      "metadata": {
        "colab": {
          "base_uri": "https://localhost:8080/"
        },
        "id": "EwqX7SA_ni0k",
        "outputId": "8772d389-ca31-4c48-a3fd-b7f307cc8a15"
      },
      "execution_count": 12,
      "outputs": [
        {
          "output_type": "stream",
          "name": "stdout",
          "text": [
            "[[0 0 0 0 0]\n",
            " [0 0 0 0 0]\n",
            " [0 0 0 0 0]\n",
            " [0 0 0 0 0]\n",
            " [0 0 0 0 0]]\n"
          ]
        }
      ]
    },
    {
      "cell_type": "markdown",
      "source": [
        "(b) Create a 3x3 matrix with values ranging from 0 t0 8 using python"
      ],
      "metadata": {
        "id": "aQgQCO0SpcB1"
      }
    },
    {
      "cell_type": "code",
      "source": [
        "import numpy as np\n",
        "array = np.arange(9)\n",
        "matrix = np.reshape(array,(3,3))\n",
        "print(matrix)"
      ],
      "metadata": {
        "colab": {
          "base_uri": "https://localhost:8080/"
        },
        "id": "NHF5Y2JhpljN",
        "outputId": "9ca267b4-b73a-4766-9f75-b705fa197569"
      },
      "execution_count": 14,
      "outputs": [
        {
          "output_type": "stream",
          "name": "stdout",
          "text": [
            "[[0 1 2]\n",
            " [3 4 5]\n",
            " [6 7 8]]\n"
          ]
        }
      ]
    },
    {
      "cell_type": "markdown",
      "source": [
        "(c) Find indices of non-zero elements from [1,2,0,0,4,0]"
      ],
      "metadata": {
        "id": "amAgkpsRqnjO"
      }
    },
    {
      "cell_type": "code",
      "source": [
        "import numpy as np\n",
        "arr = np.array([1,2,0,0,4,0])\n",
        "indices1 = np.nonzero(arr)\n",
        "print(indices1)\n",
        "indices2 = np.argwhere(arr)\n",
        "print(indices2)"
      ],
      "metadata": {
        "colab": {
          "base_uri": "https://localhost:8080/"
        },
        "id": "djAWeXoNrfot",
        "outputId": "8dcb5a5f-0329-476f-f309-3568f1e576b6"
      },
      "execution_count": 15,
      "outputs": [
        {
          "output_type": "stream",
          "name": "stdout",
          "text": [
            "(array([0, 1, 4]),)\n",
            "[[0]\n",
            " [1]\n",
            " [4]]\n"
          ]
        }
      ]
    },
    {
      "cell_type": "markdown",
      "source": [
        "(d) Create a 10x10 array with random values and find the minimum and maximum values"
      ],
      "metadata": {
        "id": "N_dh9lr7sccP"
      }
    },
    {
      "cell_type": "code",
      "source": [
        "import numpy as np\n",
        "array = np.random.randint(low=1, high=100, size=(10,10))\n",
        "print (array)\n",
        "\n",
        "min_value = np.min(array)\n",
        "max_value = np.max(array)\n",
        "\n",
        "print(\"Minimum value:\",min_value)\n",
        "print(\"Maximum value:\",max_value)"
      ],
      "metadata": {
        "colab": {
          "base_uri": "https://localhost:8080/"
        },
        "id": "ulQJ1aQksnA1",
        "outputId": "88125677-0483-43a7-c449-1e2f17d637f1"
      },
      "execution_count": 36,
      "outputs": [
        {
          "output_type": "stream",
          "name": "stdout",
          "text": [
            "[[ 5 67 71 20 98 24 90 51 58 70]\n",
            " [67 20 44  1 36 84 22 49 61 62]\n",
            " [ 6 93 37 17 72 77  8  4 52  4]\n",
            " [79 63 40 82 22 99 23  5 17 60]\n",
            " [97 32 50 51  7 44 70  3 29 57]\n",
            " [15 31 46 29 70 20 32 84 80  7]\n",
            " [45 89 86 75 24 68 64 95 88 68]\n",
            " [35 20 10 97 53 78 45 32 53 60]\n",
            " [30 88 22 41 86 25 83 69 55 15]\n",
            " [ 9 37 95 81 40 48 39 23 31 32]]\n",
            "Minimum value: 1\n",
            "Maximum value: 99\n"
          ]
        }
      ]
    },
    {
      "cell_type": "markdown",
      "source": [
        "(e) Create a random vector of size 30 and find the mean value"
      ],
      "metadata": {
        "id": "7oG4uOqzxxye"
      }
    },
    {
      "cell_type": "code",
      "source": [],
      "metadata": {
        "id": "MBmXmLOsvjNl"
      },
      "execution_count": null,
      "outputs": []
    },
    {
      "cell_type": "code",
      "source": [
        "import numpy as np\n",
        "vector = np.random.randint(low=1, high=100, size=(30))\n",
        "mean = np.mean (vector)\n",
        "print (\"Vector:\", vector)\n",
        "print (\"Mean:\", mean)"
      ],
      "metadata": {
        "colab": {
          "base_uri": "https://localhost:8080/"
        },
        "id": "QR8xoQqVyNfC",
        "outputId": "ceb63627-ed58-4b88-ec52-b7e62518115d"
      },
      "execution_count": 39,
      "outputs": [
        {
          "output_type": "stream",
          "name": "stdout",
          "text": [
            "Vector: [83 98 48 71 37 73 11 69 22 40 59 75 18 12 17 20 75 35 98 28 38 73 15 42\n",
            " 14  4 68 61 66 43]\n",
            "Mean: 47.1\n"
          ]
        }
      ]
    },
    {
      "cell_type": "markdown",
      "source": [
        "Write a python program that prompts the user for two numbers, read them in, and prints out the product, labelled appropriately.\n"
      ],
      "metadata": {
        "id": "xv6EZZ6-zXYU"
      }
    },
    {
      "cell_type": "code",
      "source": [
        "num1 = input (\"Enter the first number: \")\n",
        "num2 = input (\"Enter the second number:\")\n",
        "\n",
        "num1 = int (num1)\n",
        "num2 = int (num2)\n",
        "\n",
        "product = num1 * num2\n",
        "\n",
        "print (\"The product of the two numbers is:\", product)"
      ],
      "metadata": {
        "colab": {
          "base_uri": "https://localhost:8080/"
        },
        "id": "Y-ZDBG2DzpbL",
        "outputId": "942b14b5-fb07-4a44-c598-3a636b061210"
      },
      "execution_count": 40,
      "outputs": [
        {
          "output_type": "stream",
          "name": "stdout",
          "text": [
            "Enter the first number: 7\n",
            "Enter the second number:9\n",
            "The product of the two numbers is: 63\n"
          ]
        }
      ]
    },
    {
      "cell_type": "markdown",
      "source": [
        "Complete the code for the following function so it matches its documentation:def doubleList(numberList): For each of the numbers in the list numberList, print a line containing twice the original number. For example, doubleList ([3,1,5]) would print 6,2,10"
      ],
      "metadata": {
        "id": "vEguEytRAk8k"
      }
    },
    {
      "cell_type": "code",
      "source": [
        "def doubleList (numberList):\n",
        "  for num in numberList:\n",
        "    print(num * 2)\n",
        "doubleList([3,1,5])"
      ],
      "metadata": {
        "colab": {
          "base_uri": "https://localhost:8080/"
        },
        "id": "P1s9-MYYBlgM",
        "outputId": "75ff945d-c015-4f71-da84-e5f7925411a6"
      },
      "execution_count": 42,
      "outputs": [
        {
          "output_type": "stream",
          "name": "stdout",
          "text": [
            "6\n",
            "2\n",
            "10\n"
          ]
        }
      ]
    },
    {
      "cell_type": "markdown",
      "source": [],
      "metadata": {
        "id": "JeyGY5QAuR_F"
      }
    },
    {
      "cell_type": "markdown",
      "source": [],
      "metadata": {
        "id": "i880iGqbtsjz"
      }
    }
  ]
}